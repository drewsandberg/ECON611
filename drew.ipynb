{
 "cells": [
  {
   "cell_type": "code",
   "execution_count": 1,
   "source": [
    "a = 'Andrew'\r\n",
    "b = 'Michael'\r\n",
    "c = 'Sandberg'\r\n",
    "\r\n",
    "name = a + b + c\r\n",
    "print(name)"
   ],
   "outputs": [
    {
     "output_type": "stream",
     "name": "stdout",
     "text": [
      "AndrewMichaelSandberg\n"
     ]
    }
   ],
   "metadata": {}
  }
 ],
 "metadata": {
  "orig_nbformat": 4,
  "language_info": {
   "name": "python",
   "version": "3.9.5",
   "mimetype": "text/x-python",
   "codemirror_mode": {
    "name": "ipython",
    "version": 3
   },
   "pygments_lexer": "ipython3",
   "nbconvert_exporter": "python",
   "file_extension": ".py"
  },
  "kernelspec": {
   "name": "python3",
   "display_name": "Python 3.9.5 64-bit"
  },
  "interpreter": {
   "hash": "ad8cab06b91ab2b24064813f60eeb4ed8365ee162ad11b6eb0d70735e7367e97"
  }
 },
 "nbformat": 4,
 "nbformat_minor": 2
}